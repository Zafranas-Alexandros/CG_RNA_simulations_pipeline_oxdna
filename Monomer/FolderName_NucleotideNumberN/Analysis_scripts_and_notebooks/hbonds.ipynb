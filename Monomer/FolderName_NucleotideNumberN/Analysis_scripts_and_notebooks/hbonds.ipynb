{
 "cells": [
  {
   "cell_type": "markdown",
   "metadata": {},
   "source": [
    "hbonds analysis basically\n"
   ]
  },
  {
   "cell_type": "code",
   "execution_count": 6,
   "metadata": {},
   "outputs": [
    {
     "name": "stdout",
     "output_type": "stream",
     "text": [
      "        Frame  Atom1_ID  Atom1_Type  Atom2_ID  Atom2_Type  Distance  \\\n",
      "0          23        17           2        24           3  1.174396   \n",
      "1          33         2           4         9           4  1.163213   \n",
      "2          37        21           2        24           3  0.718911   \n",
      "3          92        27           4        32           2  1.021617   \n",
      "4          93        28           3        31           4  0.967324   \n",
      "...       ...       ...         ...       ...         ...       ...   \n",
      "211747  50000        20           4        34           3  1.134019   \n",
      "211748  50000        22           4        32           2  1.046308   \n",
      "211749  50000        23           4        31           4  1.032194   \n",
      "211750  50000        24           3        30           2  1.002123   \n",
      "211751  50000        25           3        29           4  1.045557   \n",
      "\n",
      "           Angle1     Angle2  \n",
      "0       83.801730  88.617579  \n",
      "1       92.168573  86.088812  \n",
      "2       83.523688  96.696505  \n",
      "3       95.438378  96.119609  \n",
      "4       84.924504  89.943351  \n",
      "...           ...        ...  \n",
      "211747  93.911175  84.998564  \n",
      "211748  96.923850  85.303673  \n",
      "211749  92.279644  84.118392  \n",
      "211750  98.765566  85.057371  \n",
      "211751  91.071889  81.563147  \n",
      "\n",
      "[211752 rows x 8 columns]\n"
     ]
    }
   ],
   "source": [
    "import numpy as np\n",
    "import pandas as pd\n",
    "import matplotlib.pyplot as plt\n",
    "\n",
    "file = \"hbonds_output.csv\"\n",
    "\n",
    "df = pd.read_csv(file)\n",
    "\n",
    "print(df)"
   ]
  },
  {
   "cell_type": "code",
   "execution_count": 7,
   "metadata": {},
   "outputs": [
    {
     "name": "stdout",
     "output_type": "stream",
     "text": [
      "{24: 29138, 23: 28306, 19: 27570, 20: 27396, 18: 26965, 22: 26500, 21: 26456, 25: 16277, 10: 1077, 1: 236, 9: 327, 26: 216, 11: 309, 3: 207, 2: 182, 8: 276, 5: 185, 4: 251, 7: 227, 27: 133, 12: 220, 6: 222, 28: 234, 17: 175, 13: 166, 14: 245, 15: 1044, 29: 16212, 16: 267, 30: 29156, 31: 28325, 32: 26572, 33: 26468, 34: 27399, 35: 27546, 36: 27019}\n",
      "1       236\n",
      "2       182\n",
      "3       207\n",
      "4       251\n",
      "5       185\n",
      "6       222\n",
      "7       227\n",
      "8       276\n",
      "9       327\n",
      "10     1077\n",
      "11      309\n",
      "12      220\n",
      "13      166\n",
      "14      245\n",
      "15     1044\n",
      "16      267\n",
      "17      175\n",
      "18    26965\n",
      "19    27570\n",
      "20    27396\n",
      "21    26456\n",
      "22    26500\n",
      "23    28306\n",
      "24    29138\n",
      "25    16277\n",
      "26      216\n",
      "27      133\n",
      "28      234\n",
      "29    16212\n",
      "30    29156\n",
      "31    28325\n",
      "32    26572\n",
      "33    26468\n",
      "34    27399\n",
      "35    27546\n",
      "36    27019\n",
      "dtype: int64\n"
     ]
    }
   ],
   "source": [
    "# count occurences of (x,y)\n",
    "# occur/50001 \n",
    "#should be the percentage of frames (x,y) x and y are bonded\n",
    "s1 = df[\"Atom1_ID\"]\n",
    "s2 = df[\"Atom2_ID\"]\n",
    "\n",
    "DICTIONARY_UNO = dict(s1.value_counts())\n",
    "DICTIONARY_DUE = dict(s2.value_counts())\n",
    "\n",
    "DICTIONARIOS_FINALES = {}\n",
    "\n",
    "for i in DICTIONARY_UNO:\n",
    "    if i in DICTIONARY_DUE:\n",
    "        DICTIONARIOS_FINALES[i] = DICTIONARY_UNO[i] + DICTIONARY_DUE[i]\n",
    "    else:\n",
    "        DICTIONARIOS_FINALES[i] = DICTIONARY_UNO[i]\n",
    "\n",
    "\n",
    "for i in DICTIONARY_DUE:\n",
    "    if i not in DICTIONARIOS_FINALES:\n",
    "        DICTIONARIOS_FINALES[i] = DICTIONARY_DUE[i]\n",
    "\n",
    "print(DICTIONARIOS_FINALES)\n",
    "seira = pd.Series(DICTIONARIOS_FINALES)\n",
    "seira = seira.sort_index()\n",
    "print(seira)\n"
   ]
  },
  {
   "cell_type": "code",
   "execution_count": 8,
   "metadata": {},
   "outputs": [
    {
     "name": "stdout",
     "output_type": "stream",
     "text": [
      "0\n",
      "37\n",
      "38\n",
      "39\n",
      "40\n",
      "41\n",
      "42\n",
      "43\n",
      "44\n",
      "45\n",
      "46\n",
      "47\n",
      "48\n",
      "49\n",
      "50\n",
      "51\n",
      "52\n",
      "53\n",
      "54\n",
      "55\n",
      "56\n",
      "57\n",
      "58\n",
      "59\n",
      "60\n",
      "61\n",
      "62\n",
      "63\n",
      "64\n",
      "65\n",
      "66\n",
      "67\n",
      "68\n",
      "69\n",
      "70\n",
      "71\n",
      "72\n",
      "73\n",
      "74\n",
      "75\n",
      "76\n",
      "77\n",
      "78\n",
      "79\n",
      "80\n",
      "81\n",
      "82\n",
      "83\n",
      "84\n",
      "85\n",
      "86\n",
      "87\n",
      "88\n",
      "89\n",
      "90\n",
      "91\n",
      "92\n",
      "93\n",
      "94\n",
      "95\n",
      "96\n",
      "97\n",
      "98\n",
      "99\n",
      "100\n",
      "101\n",
      "102\n",
      "103\n",
      "104\n",
      "105\n",
      "106\n",
      "107\n",
      "108\n",
      "109\n",
      "110\n",
      "111\n",
      "112\n",
      "113\n"
     ]
    },
    {
     "data": {
      "image/png": "[encoded data removed]",
      "text/plain": [
       "<Figure size 640x480 with 1 Axes>"
      ]
     },
     "metadata": {},
     "output_type": "display_data"
    }
   ],
   "source": [
    "SHAPESeq = seira.max() - (4 + seira/25000)\n",
    "SHAPESeq.plot(style='.')\n",
    "\n",
    "for i in range(114):\n",
    "    if i not in SHAPESeq:\n",
    "        print(i)"
   ]
  },
  {
   "cell_type": "code",
   "execution_count": 9,
   "metadata": {},
   "outputs": [
    {
     "name": "stdout",
     "output_type": "stream",
     "text": [
      "        Frame  Atom1_ID  Atom2_ID\n",
      "0          23        17        24\n",
      "1          33         2         9\n",
      "2          37        21        24\n",
      "3          92        27        32\n",
      "4          93        28        31\n",
      "...       ...       ...       ...\n",
      "211747  50000        20        34\n",
      "211748  50000        22        32\n",
      "211749  50000        23        31\n",
      "211750  50000        24        30\n",
      "211751  50000        25        29\n",
      "\n",
      "[211752 rows x 3 columns]\n"
     ]
    }
   ],
   "source": [
    "#print(s1,s2)\n",
    "s_0 = df[\"Frame\"]\n",
    "s_tmp = pd.merge(s_0, s1, left_index=True, right_index=True)\n",
    "stot = pd.merge(s_tmp, s2, left_index=True, right_index=True)\n",
    "\n",
    "print(stot)"
   ]
  },
  {
   "cell_type": "code",
   "execution_count": 10,
   "metadata": {},
   "outputs": [],
   "source": [
    "# Write to .dat file\n",
    "with open('RNA2_HB_PerFrame.dat', 'w') as file:\n",
    "    # Group the dataframe by each unique frame\n",
    "    for frame, group in stot.groupby('Frame'):\n",
    "        # Write the frame header\n",
    "        file.write(f\"{frame} # step {frame}\\n\")\n",
    "        \n",
    "        # Write each pair in that frame\n",
    "        for _, row in group.iterrows():\n",
    "            file.write(f\"{row['Atom1_ID']} {row['Atom2_ID']}\\n\")"
   ]
  }
 ],
 "metadata": {
  "kernelspec": {
   "display_name": "Python 3",
   "language": "python",
   "name": "python3"
  },
  "language_info": {
   "codemirror_mode": {
    "name": "ipython",
    "version": 3
   },
   "file_extension": ".py",
   "mimetype": "text/x-python",
   "name": "python",
   "nbconvert_exporter": "python",
   "pygments_lexer": "ipython3",
   "version": "3.11.2"
  }
 },
 "nbformat": 4,
 "nbformat_minor": 2
}
